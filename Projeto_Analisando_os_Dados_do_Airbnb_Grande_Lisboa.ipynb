{
  "nbformat": 4,
  "nbformat_minor": 0,
  "metadata": {
    "colab": {
      "name": "Projeto - Analisando os Dados do Airbnb - Grande Lisboa.ipynb",
      "provenance": [],
      "collapsed_sections": [],
      "include_colab_link": true
    },
    "kernelspec": {
      "name": "python3",
      "display_name": "Python 3"
    }
  },
  "cells": [
    {
      "cell_type": "markdown",
      "metadata": {
        "id": "view-in-github",
        "colab_type": "text"
      },
      "source": [
        "<a href=\"https://colab.research.google.com/github/virb30/airbnb-lisboa/blob/main/Projeto_Analisando_os_Dados_do_Airbnb_Grande_Lisboa.ipynb\" target=\"_parent\"><img src=\"https://colab.research.google.com/assets/colab-badge.svg\" alt=\"Open In Colab\"/></a>"
      ]
    },
    {
      "cell_type": "markdown",
      "metadata": {
        "id": "kLI0gJtzDGuQ"
      },
      "source": [
        "<img alt=\"Colaboratory logo\" width=\"15%\" src=\"https://raw.githubusercontent.com/carlosfab/escola-data-science/master/img/novo_logo_bg_claro.png\">\n",
        "\n",
        "#### **Data Science na Prática 3.0**\n",
        "*by [sigmoidal.ai](https://sigmoidal.ai)*\n",
        "\n",
        "---\n",
        "\n",
        "# Análise dos Dados do Airbnb - *Grande Lisboa*\n",
        "*by [Vinicius Bôscoa](https://viniboscoa.dev)*\n",
        "<br><br>\n",
        "\n",
        "O [Airbnb](https://www.airbnb.com.br/) já é considerado como sendo a **maior empresa hoteleira da atualidade**. Ah, o detalhe é que ele **não possui nenhum hotel**!\n",
        "\n",
        "Conectando pessoas que querem viajar (e se hospedar) com anfitriões que querem alugar seus imóveis de maneira prática, o Airbnb fornece uma plataforma inovadora para tornar essa hospedagem alternativa.\n",
        "\n",
        "No final de 2018, a Startup fundada em 2008, já havia **hospedado mais de 300 milhões** de pessoas ao redor de todo o mundo, desafiando as redes hoteleiras tradicionais.\n",
        "\n",
        "Uma das iniciativas do Airbnb é disponibilizar dados do site, para algumas das principais cidades do mundo. Por meio do portal [Inside Airbnb](http://insideairbnb.com/get-the-data.html), é possível baixar uma grande quantidade de dados para desenvolver projetos e soluções de *Data Science*.\n",
        "\n",
        "<center><img alt=\"Analisando Airbnb\" width=\"10%\" src=\"https://www.area360.com.au/wp-content/uploads/2017/09/airbnb-logo.jpg\"></center>\n",
        "\n",
        "**Neste *notebook*, iremos analisar os dados referentes à Grande Lisboa, e ver quais insights podem ser extraídos a partir de dados brutos.**"
      ]
    },
    {
      "cell_type": "markdown",
      "metadata": {
        "id": "uqrgIuY-okqc"
      },
      "source": [
        "## Destino: Lisboa\n",
        "\n",
        "<figure align=\"center\">\n",
        "  <img src=\"https://images.unsplash.com/photo-1606215767711-263080a6b4b9?ixlib=rb-1.2.1&ixid=MnwxMjA3fDB8MHxwaG90by1wYWdlfHx8fGVufDB8fHx8&auto=format&fit=crop&w=2700&q=80\" height=\"300px\" alt=\"Torre de Belém\"/>\n",
        "  <figcaption>Torre de Belém - Portugal</figcaption>\n",
        "</figure>\n",
        "\n",
        "O turismo em Portugal está na moda, e nada melhor do que começar um passeio pelo país pela sua capital, Lisboa.\n",
        "\n",
        "O clima em Lisboa é agradável o ano todo, mas as melhores épocas para visitá-la são na primavera e no outono, quando as temperaturas são amenas e não costuma chover. Os meses de verão podem ser bem quentes, principalmente em agosto, período de férias escolares na Europa, quando alguns estabelecimentos podem permanecer fechados. O inverno costuma ser chuvoso ainda que raramente atinja temperaturas abaixo de 0<sup>o</sup>C.\n",
        "\n",
        "Esse cenário climático faz com que as Praias tornem-se a atração preferida dos turistas. Além disso os pontos históricos, a gastronomia e os jardins são passeios que valem a pena.\n",
        "\n",
        "Com tantas opções de passeio o deslocamento também é um aspecto a ser considerado. Felizmente circular por Lisboa é muito fácil e agradável, partindo do centro da cidade, boa parte das atrações pode ser alcançada a pé, os passeios mais distantes podem ser alcançados utilizando os Metros, eléctricos (bondes) e autocarros (ônibus), que são opções acessíveis, além dos tradicionais: Táxi, Uber e afins.\n",
        "\n",
        "Com todas essas facilidades, onde se hospedar passa a ser uma questão de escolher como curtir a cidade e não uma busca estratégica visando o itinerário.\n",
        "\n",
        "A Grande Lisboa - semelhante ao que ocorre com a Grande São Paulo no Brasil - é composta de vários municípios: \n",
        "1. Alenquer, \n",
        "2. Amadora, \n",
        "3. Arruda dos Vinho, \n",
        "4. Azambuja, \n",
        "5. Cadaval, \n",
        "6. Cascais, \n",
        "7. Lisboa, \n",
        "8. Loures, \n",
        "9. Lourinhã, \n",
        "10. Mafra, \n",
        "11. Odivelas, \n",
        "12. Oeiras, \n",
        "13. Sintra, \n",
        "14. Sobral de Monte Agraço, \n",
        "15. Torres Vedras e \n",
        "16. Vila Franca de Xira.\n"
      ]
    },
    {
      "cell_type": "markdown",
      "metadata": {
        "id": "AVEvUxWruVpm"
      },
      "source": [
        "### Airbnb em Portugal\n",
        "\n",
        "Em Portugal, para um anfitrião anunciar um imóvel do tipo Alojamento Local (casas, apartamentos ou alojamentos) para aluguéis de curta duração é necessário que seja feito um registro no Portal Cidadão. Esse registro deve ser feito para todos os anúncios do Airbnb em Portugal. Essa regulamentação não determina os números mínimo e máximo de noites para aluguel."
      ]
    },
    {
      "cell_type": "markdown",
      "metadata": {
        "id": "0zxQHhIUDF_2"
      },
      "source": [
        "## Obtenção dos Dados\n",
        "\n",
        "Os dados estão disponíveis no site [Inside Airbnb](http://insideairbnb.com/get-the-data.html).\n",
        "\n",
        "Para essa análise utilizamos o arquivo `listings.csv` que contém informações resumidas e métricas para a cidade de Lisboa.\n",
        "\n",
        "Como o portal está em constante evolução, existe a possibilidade do conjunto de dados que utilizamos não estar disponível, ou ter sofrido alterações em sua estrutura, o que quebraria nossa análise. \n",
        "\n",
        "Pensando nisso, disponibilizamos o conjunto de dados utilizado nessa análise [aqui](https://drive.google.com/u/0/uc?id=1tS_amtElDIVF918jAeQgSqrEZnBGATv2&export=download)."
      ]
    },
    {
      "cell_type": "code",
      "metadata": {
        "id": "Vhp2wMPgJ6zX"
      },
      "source": [
        "# importar os pacotes necessarios\n",
        "import pandas as pd\n",
        "import matplotlib.pyplot as plt\n",
        "import seaborn as sns\n",
        "\n",
        "%matplotlib inline"
      ],
      "execution_count": 2,
      "outputs": []
    },
    {
      "cell_type": "code",
      "metadata": {
        "id": "tUmoAT8DLQ5T",
        "colab": {
          "base_uri": "https://localhost:8080/"
        },
        "outputId": "04ea9615-1378-47bf-a861-09c726b67107"
      },
      "source": [
        "DATASET = 'https://drive.google.com/u/0/uc?id=1tS_amtElDIVF918jAeQgSqrEZnBGATv2&export=download'\n",
        "\n",
        "# importar o arquivo listings.csv para um DataFrame\n",
        "df = pd.read_csv(DATASET)\n",
        "\n",
        "# ver quantidade de registros\n",
        "df.shape"
      ],
      "execution_count": 3,
      "outputs": [
        {
          "output_type": "execute_result",
          "data": {
            "text/plain": [
              "(19458, 16)"
            ]
          },
          "metadata": {
            "tags": []
          },
          "execution_count": 3
        }
      ]
    },
    {
      "cell_type": "markdown",
      "metadata": {
        "id": "qb5By2nIMS6m"
      },
      "source": [
        "## Análise dos Dados\n",
        "\n",
        "Nessa etapa iremos entender como os dados estão estruturados e quais características nos chamam mais atenção.\n",
        "\n",
        "Segundo sua documentação as variáveis estão divididas da seguinte maneira:"
      ]
    },
    {
      "cell_type": "markdown",
      "metadata": {
        "id": "RYgvuebKNg8-"
      },
      "source": [
        "**Dicionário das variáveis**\n",
        "\n",
        "* `id` - identificador único do airbnb\n",
        "* `name` - descrição do imóvel\n",
        "* `host_id` - código do proprietário (anfitrião) do imóvel\n",
        "* `host_name` - nome do anfitrião\n",
        "* `neighbourhood_group` - grupo do bairro (em nosso caso representa o conselho)\n",
        "* `neighbourhood` - nome do bairro\n",
        "* `latitude` - latitude do imóvel\n",
        "* `longitude` - longitude do imóvel\n",
        "* `room_type` - tipo de quarto\n",
        "* `price` - preço da diária em moeda local (no caso, euros)\n",
        "* `minimum_nights` - número mínimo de noites\n",
        "* `number_of_reviews` - quantidade de reviews\n",
        "* `last_review` - data da última review\n",
        "* `reviews_per_month` - média de reviews por mês\n",
        "* `calculated_host_listings_count` - quantidade de imóveis do host na mesma região\n",
        "* `availability_365` - quantidade de dias disponíveis nos próximos 365 dias.\n",
        "\n",
        "Antes de iniciar qualquer análise, vamos verificar a cara do nosso *dataset*, analisando as 5 primeiras entradas."
      ]
    },
    {
      "cell_type": "code",
      "metadata": {
        "id": "2iS_dae7YQtO",
        "colab": {
          "base_uri": "https://localhost:8080/",
          "height": 204
        },
        "outputId": "5346044d-b1d6-42ae-89d1-5653c0d238bf"
      },
      "source": [
        "# mostrar as 5 primeiras entradas\n",
        "df.head()"
      ],
      "execution_count": 4,
      "outputs": [
        {
          "output_type": "execute_result",
          "data": {
            "text/html": [
              "<div>\n",
              "<style scoped>\n",
              "    .dataframe tbody tr th:only-of-type {\n",
              "        vertical-align: middle;\n",
              "    }\n",
              "\n",
              "    .dataframe tbody tr th {\n",
              "        vertical-align: top;\n",
              "    }\n",
              "\n",
              "    .dataframe thead th {\n",
              "        text-align: right;\n",
              "    }\n",
              "</style>\n",
              "<table border=\"1\" class=\"dataframe\">\n",
              "  <thead>\n",
              "    <tr style=\"text-align: right;\">\n",
              "      <th></th>\n",
              "      <th>id</th>\n",
              "      <th>name</th>\n",
              "      <th>host_id</th>\n",
              "      <th>host_name</th>\n",
              "      <th>neighbourhood_group</th>\n",
              "      <th>neighbourhood</th>\n",
              "      <th>latitude</th>\n",
              "      <th>longitude</th>\n",
              "      <th>room_type</th>\n",
              "      <th>price</th>\n",
              "      <th>minimum_nights</th>\n",
              "      <th>number_of_reviews</th>\n",
              "      <th>last_review</th>\n",
              "      <th>reviews_per_month</th>\n",
              "      <th>calculated_host_listings_count</th>\n",
              "      <th>availability_365</th>\n",
              "    </tr>\n",
              "  </thead>\n",
              "  <tbody>\n",
              "    <tr>\n",
              "      <th>0</th>\n",
              "      <td>6499</td>\n",
              "      <td>Belém 1 Bedroom Historical Apartment</td>\n",
              "      <td>14455</td>\n",
              "      <td>Bruno</td>\n",
              "      <td>Lisboa</td>\n",
              "      <td>Belm</td>\n",
              "      <td>38.69750</td>\n",
              "      <td>-9.19768</td>\n",
              "      <td>Entire home/apt</td>\n",
              "      <td>40</td>\n",
              "      <td>3</td>\n",
              "      <td>27</td>\n",
              "      <td>2021-01-26</td>\n",
              "      <td>0.32</td>\n",
              "      <td>1</td>\n",
              "      <td>83</td>\n",
              "    </tr>\n",
              "    <tr>\n",
              "      <th>1</th>\n",
              "      <td>25659</td>\n",
              "      <td>Heart of Alfama Lisbon Center - Cœur de l'Alfama</td>\n",
              "      <td>107347</td>\n",
              "      <td>Ellie</td>\n",
              "      <td>Lisboa</td>\n",
              "      <td>Santa Maria Maior</td>\n",
              "      <td>38.71241</td>\n",
              "      <td>-9.12706</td>\n",
              "      <td>Entire home/apt</td>\n",
              "      <td>45</td>\n",
              "      <td>3</td>\n",
              "      <td>114</td>\n",
              "      <td>2019-11-08</td>\n",
              "      <td>1.30</td>\n",
              "      <td>1</td>\n",
              "      <td>305</td>\n",
              "    </tr>\n",
              "    <tr>\n",
              "      <th>2</th>\n",
              "      <td>29248</td>\n",
              "      <td>Apartamento Alfama com vista para o rio!</td>\n",
              "      <td>125768</td>\n",
              "      <td>Bárbara</td>\n",
              "      <td>Lisboa</td>\n",
              "      <td>Santa Maria Maior</td>\n",
              "      <td>38.71082</td>\n",
              "      <td>-9.12719</td>\n",
              "      <td>Entire home/apt</td>\n",
              "      <td>50</td>\n",
              "      <td>3</td>\n",
              "      <td>328</td>\n",
              "      <td>2019-10-29</td>\n",
              "      <td>2.77</td>\n",
              "      <td>1</td>\n",
              "      <td>143</td>\n",
              "    </tr>\n",
              "    <tr>\n",
              "      <th>3</th>\n",
              "      <td>29396</td>\n",
              "      <td>Alfama Hill - Boutique apartment</td>\n",
              "      <td>126415</td>\n",
              "      <td>Mónica</td>\n",
              "      <td>Lisboa</td>\n",
              "      <td>Santa Maria Maior</td>\n",
              "      <td>38.71156</td>\n",
              "      <td>-9.12987</td>\n",
              "      <td>Entire home/apt</td>\n",
              "      <td>53</td>\n",
              "      <td>2</td>\n",
              "      <td>274</td>\n",
              "      <td>2020-11-26</td>\n",
              "      <td>2.74</td>\n",
              "      <td>1</td>\n",
              "      <td>303</td>\n",
              "    </tr>\n",
              "    <tr>\n",
              "      <th>4</th>\n",
              "      <td>29720</td>\n",
              "      <td>TheHOUSE - Your luxury home</td>\n",
              "      <td>128075</td>\n",
              "      <td>Francisco</td>\n",
              "      <td>Lisboa</td>\n",
              "      <td>Estrela</td>\n",
              "      <td>38.71108</td>\n",
              "      <td>-9.15979</td>\n",
              "      <td>Entire home/apt</td>\n",
              "      <td>1114</td>\n",
              "      <td>2</td>\n",
              "      <td>55</td>\n",
              "      <td>2020-03-11</td>\n",
              "      <td>0.84</td>\n",
              "      <td>1</td>\n",
              "      <td>349</td>\n",
              "    </tr>\n",
              "  </tbody>\n",
              "</table>\n",
              "</div>"
            ],
            "text/plain": [
              "      id  ... availability_365\n",
              "0   6499  ...               83\n",
              "1  25659  ...              305\n",
              "2  29248  ...              143\n",
              "3  29396  ...              303\n",
              "4  29720  ...              349\n",
              "\n",
              "[5 rows x 16 columns]"
            ]
          },
          "metadata": {
            "tags": []
          },
          "execution_count": 4
        }
      ]
    },
    {
      "cell_type": "markdown",
      "metadata": {
        "id": "a7VjXSgATfyM"
      },
      "source": [
        "Também é interessante verificarmos quais valores únicos a variável neighbourhood_group possui."
      ]
    },
    {
      "cell_type": "code",
      "metadata": {
        "colab": {
          "base_uri": "https://localhost:8080/"
        },
        "id": "qCkLKI4qTwRj",
        "outputId": "0c55460a-c4d6-4c10-8c83-d71899bff172"
      },
      "source": [
        "# verificar valores únicos de neighbourhood_groups\n",
        "df.neighbourhood_group.unique()"
      ],
      "execution_count": 5,
      "outputs": [
        {
          "output_type": "execute_result",
          "data": {
            "text/plain": [
              "array(['Lisboa', 'Cascais', 'Sintra', 'Alenquer', 'Vila Franca De Xira',\n",
              "       'Mafra', 'Torres Vedras', 'Lourinh', 'Oeiras', 'Cadaval',\n",
              "       'Amadora', 'Arruda Dos Vinhos', 'Loures', 'Odivelas', 'Azambuja',\n",
              "       'Sobral De Monte Agrao'], dtype=object)"
            ]
          },
          "metadata": {
            "tags": []
          },
          "execution_count": 5
        }
      ]
    },
    {
      "cell_type": "markdown",
      "metadata": {
        "id": "9Ym3iZaeTzB8"
      },
      "source": [
        "Conforme dissemos anteriormente, o Distrito de Lisboa é composto por 16 munícipios, o que nos leva à conclusão de que os dados contidos nesse *Dataset* referem-se à Grande Lisboa e não somente à cidade-capital Lisboa."
      ]
    },
    {
      "cell_type": "markdown",
      "metadata": {
        "id": "6-B_qtEaYEd-"
      },
      "source": [
        "### **Q1. Quantos atributos (variáveis) e quantas entradas o nosso conjunto de dados possui? Quais os tipos das variáveis?**\n",
        "\n",
        "\n",
        "O arquivo que importamos possui 19458 registros e 16 variáveis. Vale ressaltar que o `listings.csv` é uma versão \"resumida\" dos dados do Airbnb. A versão completa `listings.csv.gz` - que possui 106 variáveis - também está disponível no portal Inside Airbnb."
      ]
    },
    {
      "cell_type": "code",
      "metadata": {
        "id": "TFRK0tniLV-G",
        "colab": {
          "base_uri": "https://localhost:8080/",
          "height": 357
        },
        "outputId": "ae14e486-b1df-4678-f64a-728973a955fb"
      },
      "source": [
        "# identificar o volume de dados do DataFrame\n",
        "print(f'Registros:\\t{df.shape[0]}')\n",
        "print(f'Variáveis:\\t{df.shape[1]}\\n')\n",
        "\n",
        "# verificar as 5 primeiras entradas do dataset\n",
        "display(df.dtypes)"
      ],
      "execution_count": 6,
      "outputs": [
        {
          "output_type": "stream",
          "text": [
            "Registros:\t19458\n",
            "Variáveis:\t16\n",
            "\n"
          ],
          "name": "stdout"
        },
        {
          "output_type": "display_data",
          "data": {
            "text/plain": [
              "id                                  int64\n",
              "name                               object\n",
              "host_id                             int64\n",
              "host_name                          object\n",
              "neighbourhood_group                object\n",
              "neighbourhood                      object\n",
              "latitude                          float64\n",
              "longitude                         float64\n",
              "room_type                          object\n",
              "price                               int64\n",
              "minimum_nights                      int64\n",
              "number_of_reviews                   int64\n",
              "last_review                        object\n",
              "reviews_per_month                 float64\n",
              "calculated_host_listings_count      int64\n",
              "availability_365                    int64\n",
              "dtype: object"
            ]
          },
          "metadata": {
            "tags": []
          }
        }
      ]
    },
    {
      "cell_type": "markdown",
      "metadata": {
        "id": "yz1urSUGW9iE"
      },
      "source": [
        "### **Q2. Qual a porcentagem de valores ausentes no *dataset*?**\n",
        "\n",
        "Verificando o percentual de dados ausentes em nosso dataset, podemos perceber que:\n",
        "\n",
        "* Temos 18% de dados ausentes nos campos de review (`reviews_per_month` e `last_review`);\n",
        "* A variável `host_name` possui pouco mais de 0,1% de valores ausentes e\n",
        "* A variável `name` possui 0,05% de valores ausentes."
      ]
    },
    {
      "cell_type": "code",
      "metadata": {
        "id": "plk2FjbCXOqP",
        "colab": {
          "base_uri": "https://localhost:8080/"
        },
        "outputId": "2a7481fb-609b-4f0d-ab5d-602b202b3cbd"
      },
      "source": [
        "# ordenar em ordem decrescente as variáveis por seus valores ausentes\n",
        "(df.isnull().sum() / df.shape[0]).sort_values(ascending=False)"
      ],
      "execution_count": 7,
      "outputs": [
        {
          "output_type": "execute_result",
          "data": {
            "text/plain": [
              "reviews_per_month                 0.183626\n",
              "last_review                       0.183626\n",
              "host_name                         0.001079\n",
              "name                              0.000514\n",
              "availability_365                  0.000000\n",
              "calculated_host_listings_count    0.000000\n",
              "number_of_reviews                 0.000000\n",
              "minimum_nights                    0.000000\n",
              "price                             0.000000\n",
              "room_type                         0.000000\n",
              "longitude                         0.000000\n",
              "latitude                          0.000000\n",
              "neighbourhood                     0.000000\n",
              "neighbourhood_group               0.000000\n",
              "host_id                           0.000000\n",
              "id                                0.000000\n",
              "dtype: float64"
            ]
          },
          "metadata": {
            "tags": []
          },
          "execution_count": 7
        }
      ]
    },
    {
      "cell_type": "markdown",
      "metadata": {
        "id": "iHXvvHIxaoNc"
      },
      "source": [
        "### **Q3. Qual o tipo de distribuição das variáveis?** \n",
        "\n",
        "Verificando a distribuição das variáveis, podemos ver que temos alguns *outliers* para as variáveis `price`e `minimum_nights`. \n",
        "\n",
        "Esses *outliers* podem ser tanto valores reais quanto erros de digitação e serão tratados mais adiante."
      ]
    },
    {
      "cell_type": "code",
      "metadata": {
        "id": "q2wWSfeRbmBo",
        "colab": {
          "base_uri": "https://localhost:8080/",
          "height": 607
        },
        "outputId": "367fbde7-6b37-4dff-9588-e2a398987695"
      },
      "source": [
        "# plotar o histograma das variáveis numéricas\n",
        "#df.hist(bins=15, figsize=(15,10));\n",
        "\n",
        "df[['price', 'minimum_nights']].hist(bins=15, figsize=(10,3));\n",
        "plt.savefig('histograma.png')"
      ],
      "execution_count": 35,
      "outputs": [
        {
          "output_type": "display_data",
          "data": {
            "image/png": "[encoded data removed]",
            "text/plain": [
              "<Figure size 1080x720 with 12 Axes>"
            ]
          },
          "metadata": {
            "tags": [],
            "needs_background": "light"
          }
        }
      ]
    },
    {
      "cell_type": "markdown",
      "metadata": {
        "id": "QDUOFJM3NVka"
      },
      "source": [
        "Pelos histogramas, identificamos a presença de alguns *outliers*, principalmente para as variáveis `price` e `minimum_nights`.\n",
        "\n",
        "Esses outliers podem ser tanto erros quanto realmente um valor real, porém fora do comum, e que prejudicam nossa análise.\n",
        "\n",
        "Portanto, antes de prosseguirmos, vamos fazer uma limpeza nos dados."
      ]
    },
    {
      "cell_type": "code",
      "metadata": {
        "id": "ff-8gUahLk-C",
        "colab": {
          "base_uri": "https://localhost:8080/",
          "height": 297
        },
        "outputId": "f44b4ada-1b3e-4886-9090-b5786a2c2274"
      },
      "source": [
        "# descrever variáveis numéricas relevantes\n",
        "df[['price', 'minimum_nights', 'availability_365']].describe()"
      ],
      "execution_count": 9,
      "outputs": [
        {
          "output_type": "execute_result",
          "data": {
            "text/html": [
              "<div>\n",
              "<style scoped>\n",
              "    .dataframe tbody tr th:only-of-type {\n",
              "        vertical-align: middle;\n",
              "    }\n",
              "\n",
              "    .dataframe tbody tr th {\n",
              "        vertical-align: top;\n",
              "    }\n",
              "\n",
              "    .dataframe thead th {\n",
              "        text-align: right;\n",
              "    }\n",
              "</style>\n",
              "<table border=\"1\" class=\"dataframe\">\n",
              "  <thead>\n",
              "    <tr style=\"text-align: right;\">\n",
              "      <th></th>\n",
              "      <th>price</th>\n",
              "      <th>minimum_nights</th>\n",
              "      <th>availability_365</th>\n",
              "    </tr>\n",
              "  </thead>\n",
              "  <tbody>\n",
              "    <tr>\n",
              "      <th>count</th>\n",
              "      <td>19458.000000</td>\n",
              "      <td>19458.000000</td>\n",
              "      <td>19458.000000</td>\n",
              "    </tr>\n",
              "    <tr>\n",
              "      <th>mean</th>\n",
              "      <td>108.296022</td>\n",
              "      <td>3.850396</td>\n",
              "      <td>218.978878</td>\n",
              "    </tr>\n",
              "    <tr>\n",
              "      <th>std</th>\n",
              "      <td>281.433465</td>\n",
              "      <td>16.737444</td>\n",
              "      <td>125.645147</td>\n",
              "    </tr>\n",
              "    <tr>\n",
              "      <th>min</th>\n",
              "      <td>0.000000</td>\n",
              "      <td>1.000000</td>\n",
              "      <td>0.000000</td>\n",
              "    </tr>\n",
              "    <tr>\n",
              "      <th>25%</th>\n",
              "      <td>50.000000</td>\n",
              "      <td>1.000000</td>\n",
              "      <td>113.000000</td>\n",
              "    </tr>\n",
              "    <tr>\n",
              "      <th>50%</th>\n",
              "      <td>72.000000</td>\n",
              "      <td>2.000000</td>\n",
              "      <td>251.000000</td>\n",
              "    </tr>\n",
              "    <tr>\n",
              "      <th>75%</th>\n",
              "      <td>110.000000</td>\n",
              "      <td>3.000000</td>\n",
              "      <td>335.000000</td>\n",
              "    </tr>\n",
              "    <tr>\n",
              "      <th>max</th>\n",
              "      <td>20628.000000</td>\n",
              "      <td>1000.000000</td>\n",
              "      <td>365.000000</td>\n",
              "    </tr>\n",
              "  </tbody>\n",
              "</table>\n",
              "</div>"
            ],
            "text/plain": [
              "              price  minimum_nights  availability_365\n",
              "count  19458.000000    19458.000000      19458.000000\n",
              "mean     108.296022        3.850396        218.978878\n",
              "std      281.433465       16.737444        125.645147\n",
              "min        0.000000        1.000000          0.000000\n",
              "25%       50.000000        1.000000        113.000000\n",
              "50%       72.000000        2.000000        251.000000\n",
              "75%      110.000000        3.000000        335.000000\n",
              "max    20628.000000     1000.000000        365.000000"
            ]
          },
          "metadata": {
            "tags": []
          },
          "execution_count": 9
        }
      ]
    },
    {
      "cell_type": "markdown",
      "metadata": {
        "id": "Y5RqQwgcbGRk"
      },
      "source": [
        "Além disso, pelo resumo acima vemos que:\n",
        "\n",
        "* a variável `price` possui 75% dos valores abaixo de 110,00. porém seu valor máximo é &euro; 20628,00.\n",
        "* a variável `minimum_nights` possui valores acima de 365 dias\n",
        "\n",
        "Iremos realizar a limpeza desses outliers e depois verificaremos novamente qual é a média do preço dos aluguéis."
      ]
    },
    {
      "cell_type": "markdown",
      "metadata": {
        "id": "5TJp5cWBcgPF"
      },
      "source": [
        "### Limpeza dos dados\n",
        "\n",
        "Antes de prosseguirmos, iremos realizar um tratamento nos dados para identificar e remover os *outliers* - pontos \"fora da curva\" - que podem atrapalhar nossa análise.\n",
        "\n",
        "Nesse projeto as variáveis de interesse são `price` e `minimum_nights`, portanto iremos remover os *outliers* delas.\n",
        "\n"
      ]
    },
    {
      "cell_type": "markdown",
      "metadata": {
        "id": "mZkFynSWdLcs"
      },
      "source": [
        "#### Identificar ponto de corte de `price`\n",
        "\n",
        "Para definirmos os limites da variável `price` iremos aplicar a técnica do IQR Score, que consiste na subtração do terceiro quartil (75%) pelo primeiro quartil(25%):\n",
        "\n",
        "$$\n",
        "  IQR = Q3-Q1\n",
        "$$\n",
        "\n",
        "\n",
        "Para determinarmos os limites superior e inferior utilizamos os cálculos:\n",
        "\n",
        "\n",
        "$$\n",
        "sup = Q3 + (1,5*IQR)\n",
        "$$\n",
        "\n",
        "$$\n",
        "inf = Q1 - (1,5*IQR)\n",
        "$$"
      ]
    },
    {
      "cell_type": "code",
      "metadata": {
        "colab": {
          "base_uri": "https://localhost:8080/"
        },
        "id": "bkkp0lyMdcO0",
        "outputId": "f3636862-89ee-4d38-c230-d59eb1b6cc95"
      },
      "source": [
        "# calcular IQR de price\n",
        "q1_price = df.price.quantile(.25)\n",
        "q3_price = df.price.quantile(.75)\n",
        "IQR_price = q3_price - q1_price\n",
        "print('IQR price: {}'.format(IQR_price))\n",
        "\n",
        "# limites de price\n",
        "sup_price = q3_price + 1.5 * IQR_price\n",
        "inf_price = q1_price - 1.5 * IQR_price\n",
        "print(f'Limite superior de price: {sup_price}')\n",
        "print(f'Limite inferior de price: {inf_price}')"
      ],
      "execution_count": 10,
      "outputs": [
        {
          "output_type": "stream",
          "text": [
            "IQR price: 60.0\n",
            "Limite superior de price: 200.0\n",
            "Limite inferior de price: -40.0\n"
          ],
          "name": "stdout"
        }
      ]
    },
    {
      "cell_type": "markdown",
      "metadata": {
        "id": "Y2ckaNcc_0Fz"
      },
      "source": [
        "Verificando a distribuição de `price`"
      ]
    },
    {
      "cell_type": "code",
      "metadata": {
        "colab": {
          "base_uri": "https://localhost:8080/",
          "height": 262
        },
        "id": "s8eqaV1e_yqD",
        "outputId": "f0641103-81ef-436f-a931-cf142169ced4"
      },
      "source": [
        "# plotar boxplot para price\n",
        "df.price.plot(kind=\"box\", vert=False, figsize=(15,3));\n",
        "plt.show()\n",
        "# ver quantidade de valores acima de 200\n",
        "print(\"price: valores acima de 200:\")\n",
        "print(\"{} entradas\".format(len(df[df.price > 200.0])))\n",
        "print(\"{:.4f}%\".format((len(df[df.price > 200.0]) / df.shape[0]) * 100))"
      ],
      "execution_count": 11,
      "outputs": [
        {
          "output_type": "display_data",
          "data": {
            "image/png": "[encoded data removed]",
            "text/plain": [
              "<Figure size 1080x216 with 1 Axes>"
            ]
          },
          "metadata": {
            "tags": [],
            "needs_background": "light"
          }
        },
        {
          "output_type": "stream",
          "text": [
            "price: valores acima de 200:\n",
            "1573 entradas\n",
            "8.0841%\n"
          ],
          "name": "stdout"
        }
      ]
    },
    {
      "cell_type": "markdown",
      "metadata": {
        "id": "DobOqRStemWs"
      },
      "source": [
        "Podemos ver que valores de `price`acima de &euro; 200 representam menos de 8% do dataset, portanto utilizaremos esse valor como corte. Também eliminaremos os valores de `price` que são iguais a zero."
      ]
    },
    {
      "cell_type": "markdown",
      "metadata": {
        "id": "xxDCLFiCe4ec"
      },
      "source": [
        "#### Identificar outliers de `minimum_nights`\n",
        "\n",
        "Repetiremos o processo da variável `price` para a variável `minimum_nights`."
      ]
    },
    {
      "cell_type": "code",
      "metadata": {
        "colab": {
          "base_uri": "https://localhost:8080/"
        },
        "id": "GtochpGXfShr",
        "outputId": "9ed52b0d-9002-45b8-981b-3a44347388ef"
      },
      "source": [
        "# calcular IQR de minimum_nights\n",
        "q1_min_nights = df.minimum_nights.quantile(.25)\n",
        "q3_min_nights = df.minimum_nights.quantile(.75)\n",
        "IQR_min_nights = q3_min_nights - q1_min_nights\n",
        "print('IQR minimum_nights: {}'.format(IQR_min_nights))\n",
        "\n",
        "# limites de price\n",
        "sup_min_nights = q3_min_nights + 1.5 * IQR_min_nights\n",
        "inf_min_nights = q1_min_nights - 1.5 * IQR_min_nights\n",
        "print(f'Limite superior de minimum_nights: {sup_min_nights}')\n",
        "print(f'Limite inferior de minimum_nights: {inf_min_nights}')"
      ],
      "execution_count": 12,
      "outputs": [
        {
          "output_type": "stream",
          "text": [
            "IQR minimum_nights: 2.0\n",
            "Limite superior de minimum_nights: 6.0\n",
            "Limite inferior de minimum_nights: -2.0\n"
          ],
          "name": "stdout"
        }
      ]
    },
    {
      "cell_type": "markdown",
      "metadata": {
        "id": "prOLdmj-_bC3"
      },
      "source": [
        "Agora vamos verificar como fica nossa distribuição no box plot"
      ]
    },
    {
      "cell_type": "code",
      "metadata": {
        "colab": {
          "base_uri": "https://localhost:8080/",
          "height": 262
        },
        "id": "tUqMtGg4_Z24",
        "outputId": "f4fa6f4d-fdbf-43f2-94fc-744af88bcf09"
      },
      "source": [
        "# plotar boxplot para minimum_nights\n",
        "df.minimum_nights.plot(kind=\"box\", vert=False, figsize=(15,3));\n",
        "plt.show()\n",
        "\n",
        "# ver quantidade de valores acima de 6\n",
        "print(\"minimum_nights: valores acima de 6:\")\n",
        "print(\"{} entradas\".format(len(df[df.minimum_nights > 6])))\n",
        "print(\"{:.4f}%\".format((len(df[df.minimum_nights > 6]) / df.shape[0]) * 100))"
      ],
      "execution_count": 13,
      "outputs": [
        {
          "output_type": "display_data",
          "data": {
            "image/png": "[encoded data removed]",
            "text/plain": [
              "<Figure size 1080x216 with 1 Axes>"
            ]
          },
          "metadata": {
            "tags": [],
            "needs_background": "light"
          }
        },
        {
          "output_type": "stream",
          "text": [
            "minimum_nights: valores acima de 6:\n",
            "1263 entradas\n",
            "6.4909%\n"
          ],
          "name": "stdout"
        }
      ]
    },
    {
      "cell_type": "markdown",
      "metadata": {
        "id": "c6KT31vAfhBv"
      },
      "source": [
        "Vemos que a quantidade de registros com a variável `minimum_nights` acima de acima de 6 dias representa 6,49% do dataset.\n",
        "\n",
        "Agora vamos à limpeza dos *outliers*."
      ]
    },
    {
      "cell_type": "code",
      "metadata": {
        "id": "wfqoxh_EgHOD",
        "colab": {
          "base_uri": "https://localhost:8080/"
        },
        "outputId": "79b420eb-f97b-4c5f-986d-4c3d3bde5c8a"
      },
      "source": [
        "# copiar o dataframe original\n",
        "df_clean = df.copy()\n",
        "df_clean.drop(df_clean[df_clean.price > 200].index, axis=0, inplace=True)\n",
        "df_clean.drop(df_clean[df_clean.price == 0].index, axis=0, inplace=True)\n",
        "df_clean.drop(df_clean[df_clean.minimum_nights > 6].index, axis=0, inplace=True)\n",
        "df_clean.shape[0]"
      ],
      "execution_count": 37,
      "outputs": [
        {
          "output_type": "execute_result",
          "data": {
            "text/plain": [
              "16751"
            ]
          },
          "metadata": {
            "tags": []
          },
          "execution_count": 37
        }
      ]
    },
    {
      "cell_type": "markdown",
      "metadata": {
        "id": "mw46nRuCGimy"
      },
      "source": [
        "Também vamos ver como ficaram os boxplots de `price`e `minimum_nights`"
      ]
    },
    {
      "cell_type": "code",
      "metadata": {
        "colab": {
          "base_uri": "https://localhost:8080/",
          "height": 513
        },
        "id": "rLTDiY70HWHg",
        "outputId": "a7510c17-60f8-4dd4-ec6c-c7c1468bc621"
      },
      "source": [
        "df_clean.price.plot(kind=\"box\", vert=False, figsize=(12,4))\n",
        "plt.show()\n",
        "\n",
        "df_clean.minimum_nights.plot(kind=\"box\", vert=False, figsize=(12,4))\n",
        "plt.show()"
      ],
      "execution_count": 15,
      "outputs": [
        {
          "output_type": "display_data",
          "data": {
            "image/png": "[encoded data removed]",
            "text/plain": [
              "<Figure size 864x288 with 1 Axes>"
            ]
          },
          "metadata": {
            "tags": [],
            "needs_background": "light"
          }
        },
        {
          "output_type": "display_data",
          "data": {
            "image/png": "[encoded data removed]",
            "text/plain": [
              "<Figure size 864x288 with 1 Axes>"
            ]
          },
          "metadata": {
            "tags": [],
            "needs_background": "light"
          }
        }
      ]
    },
    {
      "cell_type": "markdown",
      "metadata": {
        "id": "wjoAPvSfAKEv"
      },
      "source": [
        "Aqui podemos ver o resultado da limpeza, apesar do boxplot de `price` identificar alguns pontos como *outliers*, esses dados estão sendo calculados segundo o novo dataset, e nossa limpeza considerou os quartis do *dataset* original.\n",
        "\n",
        "Para garantir que não estamos lidando com *outliers* que prejudicarão nossa análise, vamos ver os novos histogramas."
      ]
    },
    {
      "cell_type": "code",
      "metadata": {
        "colab": {
          "base_uri": "https://localhost:8080/",
          "height": 817
        },
        "id": "KL4uFYJCAwV0",
        "outputId": "72d38740-48be-4636-a4db-8a98f6092397"
      },
      "source": [
        "# verificar histogramas dos dados limpos\n",
        "df_clean.hist(bins=15, figsize=(15,10));\n",
        "\n",
        "df_clean[['price', 'minimum_nights']].hist(bins=15, figsize=(10,3))\n",
        "plt.savefig('histograma_clean.png')"
      ],
      "execution_count": 36,
      "outputs": [
        {
          "output_type": "display_data",
          "data": {
            "image/png": "[encoded data removed]",
            "text/plain": [
              "<Figure size 1080x720 with 12 Axes>"
            ]
          },
          "metadata": {
            "tags": [],
            "needs_background": "light"
          }
        },
        {
          "output_type": "display_data",
          "data": {
            "image/png": "[encoded data removed]",
            "text/plain": [
              "<Figure size 720x216 with 2 Axes>"
            ]
          },
          "metadata": {
            "tags": [],
            "needs_background": "light"
          }
        }
      ]
    },
    {
      "cell_type": "markdown",
      "metadata": {
        "id": "zNxFyRp9iHNc"
      },
      "source": [
        "Vamos descrever novamente as variáveis númericas para verificar como ficou nosso conjunto de dados após a limpeza."
      ]
    },
    {
      "cell_type": "code",
      "metadata": {
        "colab": {
          "base_uri": "https://localhost:8080/",
          "height": 297
        },
        "id": "80RiPtbwA7oJ",
        "outputId": "8e704c65-c81b-482d-ecdd-5d8fe060b02a"
      },
      "source": [
        "# descrever variáveis do dataframe limpo\n",
        "df_clean[['price', 'minimum_nights', 'availability_365']].describe()"
      ],
      "execution_count": 40,
      "outputs": [
        {
          "output_type": "execute_result",
          "data": {
            "text/html": [
              "<div>\n",
              "<style scoped>\n",
              "    .dataframe tbody tr th:only-of-type {\n",
              "        vertical-align: middle;\n",
              "    }\n",
              "\n",
              "    .dataframe tbody tr th {\n",
              "        vertical-align: top;\n",
              "    }\n",
              "\n",
              "    .dataframe thead th {\n",
              "        text-align: right;\n",
              "    }\n",
              "</style>\n",
              "<table border=\"1\" class=\"dataframe\">\n",
              "  <thead>\n",
              "    <tr style=\"text-align: right;\">\n",
              "      <th></th>\n",
              "      <th>price</th>\n",
              "      <th>minimum_nights</th>\n",
              "      <th>availability_365</th>\n",
              "    </tr>\n",
              "  </thead>\n",
              "  <tbody>\n",
              "    <tr>\n",
              "      <th>count</th>\n",
              "      <td>16751.000000</td>\n",
              "      <td>16751.000000</td>\n",
              "      <td>16751.000000</td>\n",
              "    </tr>\n",
              "    <tr>\n",
              "      <th>mean</th>\n",
              "      <td>77.346546</td>\n",
              "      <td>2.243388</td>\n",
              "      <td>219.411378</td>\n",
              "    </tr>\n",
              "    <tr>\n",
              "      <th>std</th>\n",
              "      <td>40.892956</td>\n",
              "      <td>1.102581</td>\n",
              "      <td>125.062553</td>\n",
              "    </tr>\n",
              "    <tr>\n",
              "      <th>min</th>\n",
              "      <td>8.000000</td>\n",
              "      <td>1.000000</td>\n",
              "      <td>0.000000</td>\n",
              "    </tr>\n",
              "    <tr>\n",
              "      <th>25%</th>\n",
              "      <td>49.000000</td>\n",
              "      <td>1.000000</td>\n",
              "      <td>115.000000</td>\n",
              "    </tr>\n",
              "    <tr>\n",
              "      <th>50%</th>\n",
              "      <td>70.000000</td>\n",
              "      <td>2.000000</td>\n",
              "      <td>251.000000</td>\n",
              "    </tr>\n",
              "    <tr>\n",
              "      <th>75%</th>\n",
              "      <td>100.000000</td>\n",
              "      <td>3.000000</td>\n",
              "      <td>335.000000</td>\n",
              "    </tr>\n",
              "    <tr>\n",
              "      <th>max</th>\n",
              "      <td>200.000000</td>\n",
              "      <td>6.000000</td>\n",
              "      <td>365.000000</td>\n",
              "    </tr>\n",
              "  </tbody>\n",
              "</table>\n",
              "</div>"
            ],
            "text/plain": [
              "              price  minimum_nights  availability_365\n",
              "count  16751.000000    16751.000000      16751.000000\n",
              "mean      77.346546        2.243388        219.411378\n",
              "std       40.892956        1.102581        125.062553\n",
              "min        8.000000        1.000000          0.000000\n",
              "25%       49.000000        1.000000        115.000000\n",
              "50%       70.000000        2.000000        251.000000\n",
              "75%      100.000000        3.000000        335.000000\n",
              "max      200.000000        6.000000        365.000000"
            ]
          },
          "metadata": {
            "tags": []
          },
          "execution_count": 40
        }
      ]
    },
    {
      "cell_type": "markdown",
      "metadata": {
        "id": "St_SxoESA8XK"
      },
      "source": [
        "Verificamos alguns pontos que merecem destaque:\n",
        "* A mediana de `price` quase não foi afetada pela limpeza;\n",
        "* A média e o desvio padrão de `price` foram reduzidos considerávelmente e;\n",
        "* Agora não temos dados incorretos (por exemplo preço = 0)"
      ]
    },
    {
      "cell_type": "markdown",
      "metadata": {
        "id": "7x4aw1j5wNmn"
      },
      "source": [
        "### **Q4. Qual a média dos preços de aluguel?**\n",
        "\n",
        "Podemos ver que a média dos preços de aluguel é &euro; 77,00. \n"
      ]
    },
    {
      "cell_type": "code",
      "metadata": {
        "colab": {
          "base_uri": "https://localhost:8080/"
        },
        "id": "tD9olfUFN4I5",
        "outputId": "72d0fa7b-a75d-4049-86bc-797f2d0fc186"
      },
      "source": [
        "# ver média dos preços\n",
        "df_clean.price.mean()"
      ],
      "execution_count": 38,
      "outputs": [
        {
          "output_type": "execute_result",
          "data": {
            "text/plain": [
              "77.34654647483733"
            ]
          },
          "metadata": {
            "tags": []
          },
          "execution_count": 38
        }
      ]
    },
    {
      "cell_type": "markdown",
      "metadata": {
        "id": "IXn2oIo5qx-w"
      },
      "source": [
        "### **Q5. Qual a correlação existente entre as variáveis**\n",
        "\n",
        "Agora vamos verificar qual a correlação das variáveis do nosso conjunto de dados, ou seja o quanto uma variável afeta outra."
      ]
    },
    {
      "cell_type": "code",
      "metadata": {
        "id": "x2ayzBajqxyd",
        "colab": {
          "base_uri": "https://localhost:8080/",
          "height": 235
        },
        "outputId": "e64679f7-79f5-46dd-ba09-6c63c66a1b75"
      },
      "source": [
        "# criar uma matriz de correlação\n",
        "corr = df_clean[['price', 'minimum_nights', 'number_of_reviews', 'reviews_per_month',\n",
        "                'calculated_host_listings_count', 'availability_365']].corr()\n",
        "# mostrar a matriz de correlação\n",
        "display(corr)\n"
      ],
      "execution_count": 18,
      "outputs": [
        {
          "output_type": "display_data",
          "data": {
            "text/html": [
              "<div>\n",
              "<style scoped>\n",
              "    .dataframe tbody tr th:only-of-type {\n",
              "        vertical-align: middle;\n",
              "    }\n",
              "\n",
              "    .dataframe tbody tr th {\n",
              "        vertical-align: top;\n",
              "    }\n",
              "\n",
              "    .dataframe thead th {\n",
              "        text-align: right;\n",
              "    }\n",
              "</style>\n",
              "<table border=\"1\" class=\"dataframe\">\n",
              "  <thead>\n",
              "    <tr style=\"text-align: right;\">\n",
              "      <th></th>\n",
              "      <th>price</th>\n",
              "      <th>minimum_nights</th>\n",
              "      <th>number_of_reviews</th>\n",
              "      <th>reviews_per_month</th>\n",
              "      <th>calculated_host_listings_count</th>\n",
              "      <th>availability_365</th>\n",
              "    </tr>\n",
              "  </thead>\n",
              "  <tbody>\n",
              "    <tr>\n",
              "      <th>price</th>\n",
              "      <td>1.000000</td>\n",
              "      <td>0.108719</td>\n",
              "      <td>-0.110667</td>\n",
              "      <td>-0.125217</td>\n",
              "      <td>0.089314</td>\n",
              "      <td>0.055613</td>\n",
              "    </tr>\n",
              "    <tr>\n",
              "      <th>minimum_nights</th>\n",
              "      <td>0.108719</td>\n",
              "      <td>1.000000</td>\n",
              "      <td>0.010436</td>\n",
              "      <td>-0.103843</td>\n",
              "      <td>-0.099009</td>\n",
              "      <td>-0.101627</td>\n",
              "    </tr>\n",
              "    <tr>\n",
              "      <th>number_of_reviews</th>\n",
              "      <td>-0.110667</td>\n",
              "      <td>0.010436</td>\n",
              "      <td>1.000000</td>\n",
              "      <td>0.740154</td>\n",
              "      <td>-0.096300</td>\n",
              "      <td>-0.006842</td>\n",
              "    </tr>\n",
              "    <tr>\n",
              "      <th>reviews_per_month</th>\n",
              "      <td>-0.125217</td>\n",
              "      <td>-0.103843</td>\n",
              "      <td>0.740154</td>\n",
              "      <td>1.000000</td>\n",
              "      <td>-0.070373</td>\n",
              "      <td>0.019796</td>\n",
              "    </tr>\n",
              "    <tr>\n",
              "      <th>calculated_host_listings_count</th>\n",
              "      <td>0.089314</td>\n",
              "      <td>-0.099009</td>\n",
              "      <td>-0.096300</td>\n",
              "      <td>-0.070373</td>\n",
              "      <td>1.000000</td>\n",
              "      <td>0.059078</td>\n",
              "    </tr>\n",
              "    <tr>\n",
              "      <th>availability_365</th>\n",
              "      <td>0.055613</td>\n",
              "      <td>-0.101627</td>\n",
              "      <td>-0.006842</td>\n",
              "      <td>0.019796</td>\n",
              "      <td>0.059078</td>\n",
              "      <td>1.000000</td>\n",
              "    </tr>\n",
              "  </tbody>\n",
              "</table>\n",
              "</div>"
            ],
            "text/plain": [
              "                                   price  ...  availability_365\n",
              "price                           1.000000  ...          0.055613\n",
              "minimum_nights                  0.108719  ...         -0.101627\n",
              "number_of_reviews              -0.110667  ...         -0.006842\n",
              "reviews_per_month              -0.125217  ...          0.019796\n",
              "calculated_host_listings_count  0.089314  ...          0.059078\n",
              "availability_365                0.055613  ...          1.000000\n",
              "\n",
              "[6 rows x 6 columns]"
            ]
          },
          "metadata": {
            "tags": []
          }
        }
      ]
    },
    {
      "cell_type": "code",
      "metadata": {
        "id": "91UujDr6ueqE",
        "colab": {
          "base_uri": "https://localhost:8080/",
          "height": 411
        },
        "outputId": "f7c283fa-8d5f-450c-b3b3-8cc19d526bbd"
      },
      "source": [
        "# plotar um heatmap a partir das correlações\n",
        "sns.heatmap(corr, cmap='RdBu', fmt='.2f', square=True, linecolor='white', annot=True);"
      ],
      "execution_count": 19,
      "outputs": [
        {
          "output_type": "display_data",
          "data": {
            "image/png": "[encoded data removed]",
            "text/plain": [
              "<Figure size 432x288 with 2 Axes>"
            ]
          },
          "metadata": {
            "tags": [],
            "needs_background": "light"
          }
        }
      ]
    },
    {
      "cell_type": "markdown",
      "metadata": {
        "id": "ij85Qy3qhnTM"
      },
      "source": [
        "Com exceção das variáveis `number_of_reviews` e `reviews_per_month` nossas variáveis numéricas não são relacionadas entre si."
      ]
    },
    {
      "cell_type": "markdown",
      "metadata": {
        "id": "7b6RMWpuHKN-"
      },
      "source": [
        "### **Q6. Qual o tipo de imóvel mais alugado no Airbnb?**\n",
        "\n",
        "Em nosso *dataset* a variável `room_type` indica qual o tipo do imóvel que está anunciado no Airbnb e as opções são apartamentos/casas inteiras, quarto de hotal, apenas o aluguel de um quarto ou mesmo dividir o quarto com outras pessoas.\n",
        "\n",
        "Vemos que em Lisboa a preferência de aluguel via Airbnb é para apartamentos/casas inteiras."
      ]
    },
    {
      "cell_type": "code",
      "metadata": {
        "id": "ueLPNWvPHgfB",
        "colab": {
          "base_uri": "https://localhost:8080/"
        },
        "outputId": "4f553fc2-9e40-44be-dec6-bd2ec429eb15"
      },
      "source": [
        "# mostrar a quantidade de cada tipo de imóvel disponível\n",
        "df_clean.room_type.value_counts()"
      ],
      "execution_count": 20,
      "outputs": [
        {
          "output_type": "execute_result",
          "data": {
            "text/plain": [
              "Entire home/apt    12354\n",
              "Private room        3740\n",
              "Shared room          339\n",
              "Hotel room           318\n",
              "Name: room_type, dtype: int64"
            ]
          },
          "metadata": {
            "tags": []
          },
          "execution_count": 20
        }
      ]
    },
    {
      "cell_type": "code",
      "metadata": {
        "id": "EvwoO-XAHhIm",
        "colab": {
          "base_uri": "https://localhost:8080/"
        },
        "outputId": "18104d72-cbaf-43d7-8bdb-1d8df9d34798"
      },
      "source": [
        "# mostrar a porcentagem de cada tipo de imóvel disponível\n",
        "df_clean.room_type.value_counts() / df.shape[0]"
      ],
      "execution_count": 21,
      "outputs": [
        {
          "output_type": "execute_result",
          "data": {
            "text/plain": [
              "Entire home/apt    0.634906\n",
              "Private room       0.192209\n",
              "Shared room        0.017422\n",
              "Hotel room         0.016343\n",
              "Name: room_type, dtype: float64"
            ]
          },
          "metadata": {
            "tags": []
          },
          "execution_count": 21
        }
      ]
    },
    {
      "cell_type": "markdown",
      "metadata": {
        "id": "MFa5NbnLJMcd"
      },
      "source": [
        "### **Q7. Qual a localidade mais cara do dataset?**\n",
        "\n",
        "Devido a natureza do Distrito de Lisboa, iremos verificar qual dos conselhos (municípios) e quais os bairros do conselho de Lisboa são os mais caros. Começando pelos municípios:\n"
      ]
    },
    {
      "cell_type": "code",
      "metadata": {
        "id": "MD_xa143JZpi",
        "colab": {
          "base_uri": "https://localhost:8080/"
        },
        "outputId": "aed198db-87c5-486a-bfa0-a622c6a5ce9b"
      },
      "source": [
        "# ver preços por conselho, na média\n",
        "print(df_clean.groupby(['neighbourhood_group']).price.mean().sort_values(ascending=False))\n",
        "\n",
        "# ver quantidade de imóveis em Arruda dos Vinhos\n",
        "print('\\nQuantidade de imóveis em Arruda dos Vinhos: {}'.format(df_clean[df_clean.neighbourhood_group == \"Arruda Dos Vinhos\"].shape[0]))"
      ],
      "execution_count": 22,
      "outputs": [
        {
          "output_type": "stream",
          "text": [
            "neighbourhood_group\n",
            "Arruda Dos Vinhos        103.000000\n",
            "Mafra                     93.668712\n",
            "Cascais                   91.810617\n",
            "Lourinh                   89.480969\n",
            "Cadaval                   87.438596\n",
            "Torres Vedras             84.756477\n",
            "Sobral De Monte Agrao     83.266667\n",
            "Sintra                    79.908174\n",
            "Alenquer                  78.688525\n",
            "Lisboa                    74.544940\n",
            "Oeiras                    69.400000\n",
            "Loures                    64.078261\n",
            "Azambuja                  62.300000\n",
            "Vila Franca De Xira       57.375000\n",
            "Odivelas                  50.013889\n",
            "Amadora                   40.370370\n",
            "Name: price, dtype: float64\n",
            "\n",
            "Quantidade de imóveis em Arruda dos Vinhos: 5\n"
          ],
          "name": "stdout"
        }
      ]
    },
    {
      "cell_type": "markdown",
      "metadata": {
        "id": "6LHomLlVz9c2"
      },
      "source": [
        "Vimos acima que temos apenas 5 imóveis disponíveis para aluguel em Arruda dos Vinhos, esse é um número muito pequeno o que provoca distorções e eleva a média do preço nessa localidade. Para se ter uma idéia "
      ]
    },
    {
      "cell_type": "code",
      "metadata": {
        "colab": {
          "base_uri": "https://localhost:8080/"
        },
        "id": "oa4o0xRTksjv",
        "outputId": "49d4d392-66be-4868-afc5-8b17245b2df7"
      },
      "source": [
        "# ver quantidade de imóveis por conselho\n",
        "df_clean.neighbourhood_group.value_counts()"
      ],
      "execution_count": 23,
      "outputs": [
        {
          "output_type": "execute_result",
          "data": {
            "text/plain": [
              "Lisboa                   12183\n",
              "Cascais                   1394\n",
              "Sintra                     991\n",
              "Mafra                      978\n",
              "Lourinh                    289\n",
              "Oeiras                     240\n",
              "Torres Vedras              193\n",
              "Loures                     115\n",
              "Amadora                    108\n",
              "Odivelas                    72\n",
              "Alenquer                    61\n",
              "Cadaval                     57\n",
              "Vila Franca De Xira         40\n",
              "Sobral De Monte Agrao       15\n",
              "Azambuja                    10\n",
              "Arruda Dos Vinhos            5\n",
              "Name: neighbourhood_group, dtype: int64"
            ]
          },
          "metadata": {
            "tags": []
          },
          "execution_count": 23
        }
      ]
    },
    {
      "cell_type": "markdown",
      "metadata": {
        "id": "ilUgDGyokfgV"
      },
      "source": [
        "Alguns municípios possuem poucos imóveis disponíveis o que pode elevar a média dos aluguéis, como é o caso de Arruda Dos Vinhos, que possui apenas 5 imóveis cadastrados e a média de preço é a mais elevada, enquanto que Lisboa possui mais de 12000 registros. Com essa quantidade de registros, vamos verificar também quais os 10 bairros mais caros de Lisboa."
      ]
    },
    {
      "cell_type": "code",
      "metadata": {
        "colab": {
          "base_uri": "https://localhost:8080/"
        },
        "id": "RVBlNWe_SDNU",
        "outputId": "42a73f8f-c20b-468d-eaee-f156eaca3f1a"
      },
      "source": [
        "# extrair média de preço do município de Lisboa por bairro\n",
        "print(df_clean[df_clean.neighbourhood_group == 'Lisboa'].groupby(['neighbourhood']).price.mean().sort_values(ascending=False)[:10])\n",
        "\n",
        "# ver quantidade de imóveis no Parque das Naes\n",
        "print('\\nQuantidade de imóveis no Parque das Nações: {}'.format(df_clean[df_clean.neighbourhood == \"Parque das Naes\"].shape[0]))"
      ],
      "execution_count": 24,
      "outputs": [
        {
          "output_type": "stream",
          "text": [
            "neighbourhood\n",
            "Parque das Naes      96.725389\n",
            "Santa Maria Maior    80.932466\n",
            "Misericrdia          80.825131\n",
            "Santo Antnio         80.586027\n",
            "Campo de Ourique     79.247863\n",
            "Lumiar               78.075949\n",
            "Estrela              75.909732\n",
            "Belm                 72.917355\n",
            "Campolide            72.055172\n",
            "So Vicente           71.276112\n",
            "Name: price, dtype: float64\n",
            "\n",
            "Quantidade de imóveis no Parque das Nações: 193\n"
          ],
          "name": "stdout"
        }
      ]
    },
    {
      "cell_type": "markdown",
      "metadata": {
        "id": "pjEKvpL6zztn"
      },
      "source": [
        "Para a cidade de Lisboa (e não a Grande Lisboa), vemos que o Parque das Nações é o bairro mais caro para aluguel do Airbnb, o que reflete sua reputação de ser um dos bairros mais caros para se viver na cidade (com um peço de venda médio entre 4.500 €/m2 e 5.500 €/m2)."
      ]
    },
    {
      "cell_type": "markdown",
      "metadata": {
        "id": "3Z2H-MkDNnQx"
      },
      "source": [
        "#### Distribuição geográfica\n",
        "\n",
        "Como o conjunto de dados nos fornece a latitude e longitude dos imóveis ilustraremos como essa distribuição ficaria num mapa."
      ]
    },
    {
      "cell_type": "code",
      "metadata": {
        "id": "UxVJqJ_3W59I",
        "colab": {
          "base_uri": "https://localhost:8080/",
          "height": 473
        },
        "outputId": "6fd886aa-7dad-436e-98e0-1f67da86e5a8"
      },
      "source": [
        "# plotar os imóveis pela latitude-longitude\n",
        "df_clean.plot(kind='scatter', x='longitude', y='latitude', alpha=0.4, c=df_clean['price'], s=8, cmap=plt.get_cmap('jet'), figsize=(12, 8));"
      ],
      "execution_count": 25,
      "outputs": [
        {
          "output_type": "display_data",
          "data": {
            "image/png": "[encoded data removed]",
            "text/plain": [
              "<Figure size 864x576 with 2 Axes>"
            ]
          },
          "metadata": {
            "tags": [],
            "needs_background": "light"
          }
        }
      ]
    },
    {
      "cell_type": "markdown",
      "metadata": {
        "id": "vTneAMRUYvr1"
      },
      "source": [
        "### **Q8. Qual é a média do mínimo de noites para aluguel (minimum_nights)?**\n",
        "\n",
        "2 dias é a média do mínimo de noites para aluguel via Airbnb na Grande Lisboa. Uma possível explicação para esse fato pode ser em detrimento dos diversos passeios que a cidade oferece, proporcionando que os visitantes permaneçam pucos dias em um mesmo local."
      ]
    },
    {
      "cell_type": "code",
      "metadata": {
        "id": "_VzNhrEgY82N",
        "colab": {
          "base_uri": "https://localhost:8080/"
        },
        "outputId": "4eb66fe5-85b8-4247-cdca-1f3c8d86bda6"
      },
      "source": [
        "# ver a média da coluna `minimum_nights``\n",
        "df_clean.minimum_nights.mean()"
      ],
      "execution_count": 26,
      "outputs": [
        {
          "output_type": "execute_result",
          "data": {
            "text/plain": [
              "2.2433884544206317"
            ]
          },
          "metadata": {
            "tags": []
          },
          "execution_count": 26
        }
      ]
    },
    {
      "cell_type": "markdown",
      "metadata": {
        "id": "GkvAg623RjoR"
      },
      "source": [
        "## Conclusões\n",
        "\n",
        "Foi realizada uma análise genérica dos dados do Airbnb para a Grande Lisboa. O objetivo principal era ter uma visão geral sobre o conjunto de dados e gerar *insights* para análises mais aprofundadas. Vimos que esse *dataset* possui alguns *outliers* fazendo-se necessária uma limpeza antes de prosseguirmos com a análise.\n",
        "\n",
        "Algumas localidades possuem poucos imóveis disponíveis, o que pode provocar distorções na média dos preços. \n",
        "\n",
        "Os locais mais desejados estão localizados nas regiões litorâneas (e banhadas pelo rio Tejo) e no centro de Lisboa. O tempo médio despendido pelos visitantes na cidade é de pouco mais de 2 dias.\n",
        "\n",
        "Vimos também que, em Lisboa o bairro mais caro para alugar um imóvel é o Parque das Nações, lar do Oceanário, que além de ser uma atração turística, segundo a Imobiliária Engel & Völkers “[O Parque das Nações] é atualmente um dos mais procurados para arrendamento, apresentando um preço por metro quadrado em torno dos 4.300 euros\", justificando, portanto os preços mais elevados nessa localidade.\n",
        "\n",
        "Por fim vale ressaltar que esse *dataset* contém uma parcela dos dados disponíveis pelo Airbnb, sendo ideal para uma análise inicial. No entanto recomenda-se a utilização da versão completa desse *dataset* que possui 106 atributos para análise.\n",
        "\n",
        "\n"
      ]
    },
    {
      "cell_type": "code",
      "metadata": {
        "id": "60KcP57vLirI"
      },
      "source": [
        ""
      ],
      "execution_count": 26,
      "outputs": []
    }
  ]
}